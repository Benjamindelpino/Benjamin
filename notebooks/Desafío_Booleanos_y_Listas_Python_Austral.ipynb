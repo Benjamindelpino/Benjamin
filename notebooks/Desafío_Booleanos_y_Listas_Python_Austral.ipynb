{
  "nbformat": 4,
  "nbformat_minor": 0,
  "metadata": {
    "colab": {
      "provenance": [],
      "include_colab_link": true
    },
    "kernelspec": {
      "name": "python3",
      "display_name": "Python 3"
    },
    "language_info": {
      "name": "python"
    }
  },
  "cells": [
    {
      "cell_type": "markdown",
      "metadata": {
        "id": "view-in-github",
        "colab_type": "text"
      },
      "source": [
        "<a href=\"https://colab.research.google.com/github/Benjamindelpino/Benjamin/blob/main/notebooks/Desaf%C3%ADo_Booleanos_y_Listas_Python_Austral.ipynb\" target=\"_parent\"><img src=\"https://colab.research.google.com/assets/colab-badge.svg\" alt=\"Open In Colab\"/></a>"
      ]
    },
    {
      "cell_type": "markdown",
      "source": [
        "<h1>\n",
        "<b> Python Econometría Desafíos\n",
        "</h1>\n",
        "\n",
        "\n",
        "<div>\n",
        "<img src=\"https://upload.wikimedia.org/wikipedia/commons/thumb/c/c3/Python-logo-notext.svg/800px-Python-logo-notext.svg.png \" width=\"100\"/>\n",
        "</div>"
      ],
      "metadata": {
        "id": "MOtJt5QPssHJ"
      }
    },
    {
      "cell_type": "markdown",
      "source": [
        "## 🟢 **Desafío 1**"
      ],
      "metadata": {
        "id": "-PB00FzGtIXS"
      }
    },
    {
      "cell_type": "markdown",
      "source": [
        "Escribir un programa que le pregunte al usuario que escriba dos números y luego que indique si el 1er número es más grande que el segundo.\n",
        "\n",
        "Nota: Recordá los operadores de comparación ==, !=, <, >, >=, <=\n",
        "\n",
        "Como aún no hemos visto condicionales podes usar una sintaxis similar a la siguiente\n",
        "print(\"la afirmación que el primer valor es mayor que el segundo es\", valor1>valor2)"
      ],
      "metadata": {
        "id": "L6_-wGQMtR_b"
      }
    },
    {
      "cell_type": "code",
      "execution_count": 3,
      "metadata": {
        "id": "AdCpvgR8srXq",
        "outputId": "8b960e7e-e86e-44e1-9429-d56e511b510a",
        "colab": {
          "base_uri": "https://localhost:8080/"
        }
      },
      "outputs": [
        {
          "output_type": "stream",
          "name": "stdout",
          "text": [
            "Por favor, ingresa el primer número: 2\n",
            "Por favor, ingresa el segundo número: 3\n",
            "El primer número no es más grande que el segundo.\n"
          ]
        }
      ],
      "source": [
        "# Pedir al usuario que ingrese dos números\n",
        "numero1 = float(input(\"Por favor, ingresa el primer número: \"))\n",
        "numero2 = float(input(\"Por favor, ingresa el segundo número: \"))\n",
        "\n",
        "# Crear una variable booleana para la comparación\n",
        "es_mas_grande = numero1 > numero2\n",
        "\n",
        "# Imprimir el resultado basado en el valor booleano\n",
        "if es_mas_grande:\n",
        "    print(\"El primer número es más grande que el segundo.\")\n",
        "else:\n",
        "    print(\"El primer número no es más grande que el segundo.\")"
      ]
    },
    {
      "cell_type": "markdown",
      "source": [
        "## 🟢 **Desafío 2**"
      ],
      "metadata": {
        "id": "RfSMA2I9tYZS"
      }
    },
    {
      "cell_type": "markdown",
      "source": [
        "Escribir un programa que almacene las asignaturas de un curso (por ejemplo Matemáticas, Física, Química, Historia y Lengua) en una lista y la muestre por pantalla."
      ],
      "metadata": {
        "id": "YW8h3PaBtec_"
      }
    },
    {
      "cell_type": "code",
      "source": [
        "lista_asignaturas = [\"Matemáticas\", \"Física\", \"Química\", \"Historia\", \"Lengua\"]\n",
        "\n",
        "print(\"Las asignaturas del curso son:\")\n",
        "for asignatura in lista_asignaturas:\n",
        "    print(asignatura)"
      ],
      "metadata": {
        "id": "jtWM0FWttbyi",
        "outputId": "3327012b-2461-4924-ee99-45b5f0a3f96b",
        "colab": {
          "base_uri": "https://localhost:8080/"
        }
      },
      "execution_count": 8,
      "outputs": [
        {
          "output_type": "stream",
          "name": "stdout",
          "text": [
            "Las asignaturas del curso son:\n",
            "Matemáticas\n",
            "Física\n",
            "Química\n",
            "Historia\n",
            "Lengua\n"
          ]
        }
      ]
    },
    {
      "cell_type": "markdown",
      "source": [
        "## 🟡 **Desafío 3**"
      ],
      "metadata": {
        "id": "Xd3kTSOKtZSw"
      }
    },
    {
      "cell_type": "markdown",
      "source": [
        "Dada una lista de números, imprimir la suma de todos ellos."
      ],
      "metadata": {
        "id": "PfU7Vr1Mtjby"
      }
    },
    {
      "cell_type": "code",
      "source": [
        "lista=[123, 5, 9, 2.3, 5, 1, 49, 63, 24, 56, 856, 22]\n",
        "sum(lista)"
      ],
      "metadata": {
        "id": "fwDtdDysxie-",
        "outputId": "568607aa-3dbd-47a3-ba51-61e61fd62e81",
        "colab": {
          "base_uri": "https://localhost:8080/"
        }
      },
      "execution_count": 10,
      "outputs": [
        {
          "output_type": "execute_result",
          "data": {
            "text/plain": [
              "1215.3"
            ]
          },
          "metadata": {},
          "execution_count": 10
        }
      ]
    },
    {
      "cell_type": "markdown",
      "source": [
        "## 🟡 **Desafío 4**"
      ],
      "metadata": {
        "id": "ADpjQNkhtZgK"
      }
    },
    {
      "cell_type": "markdown",
      "source": [
        "Dada una lista de números, imprimir el número más grande.\n",
        "\n"
      ],
      "metadata": {
        "id": "aEpGvJCluYVi"
      }
    },
    {
      "cell_type": "code",
      "source": [
        "lista=[5,9,2,8,10,6]\n",
        "print(max(lista))"
      ],
      "metadata": {
        "id": "7Xvb9GYbukR9",
        "outputId": "b6b9df72-7cb4-4c0c-9b77-cefc9487dbb1",
        "colab": {
          "base_uri": "https://localhost:8080/"
        }
      },
      "execution_count": 14,
      "outputs": [
        {
          "output_type": "stream",
          "name": "stdout",
          "text": [
            "10\n"
          ]
        }
      ]
    },
    {
      "cell_type": "markdown",
      "source": [
        "## 🔴 **Desafío 5**"
      ],
      "metadata": {
        "id": "7DWSiGniuy5o"
      }
    },
    {
      "cell_type": "markdown",
      "source": [
        "Dada una lista de números, imprimir solo los números pares.\n",
        "\n",
        "Nota: Recordá que con slicing podemo seleccionar rangos de listas e ir tomando elementos de a saltos lista[inicio:fin:salto]"
      ],
      "metadata": {
        "id": "_yDBOBqiuv9A"
      }
    },
    {
      "cell_type": "code",
      "source": [
        "listanum=[1, 2, 3, 4, 5, 6, 7, 8, 9, 10, 11, 12, 13, 14, 15]\n",
        "for i in listanum:\n",
        "    if i==[1,3,5,7,9,11,13,15]:\n",
        "      continue\n",
        "    print (i)"
      ],
      "metadata": {
        "id": "mx73l9TWvEOa",
        "outputId": "b7abf9ef-dc16-425c-b193-3634adfa4552",
        "colab": {
          "base_uri": "https://localhost:8080/"
        }
      },
      "execution_count": 21,
      "outputs": [
        {
          "output_type": "stream",
          "name": "stdout",
          "text": [
            "1\n",
            "2\n",
            "3\n",
            "4\n",
            "5\n",
            "6\n",
            "7\n",
            "8\n",
            "9\n",
            "10\n",
            "11\n",
            "12\n",
            "13\n",
            "14\n",
            "15\n"
          ]
        }
      ]
    }
  ]
}