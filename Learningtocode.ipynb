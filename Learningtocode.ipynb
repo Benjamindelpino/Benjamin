{
  "nbformat": 4,
  "nbformat_minor": 0,
  "metadata": {
    "colab": {
      "provenance": [],
      "authorship_tag": "ABX9TyN1H/eJkrVpwQDuuUPymSui",
      "include_colab_link": true
    },
    "kernelspec": {
      "name": "python3",
      "display_name": "Python 3"
    },
    "language_info": {
      "name": "python"
    }
  },
  "cells": [
    {
      "cell_type": "markdown",
      "metadata": {
        "id": "view-in-github",
        "colab_type": "text"
      },
      "source": [
        "<a href=\"https://colab.research.google.com/github/Benjamindelpino/Benjamin/blob/main/Learningtocode.ipynb\" target=\"_parent\"><img src=\"https://colab.research.google.com/assets/colab-badge.svg\" alt=\"Open In Colab\"/></a>"
      ]
    },
    {
      "cell_type": "markdown",
      "source": [
        "## Tipos de codigo"
      ],
      "metadata": {
        "id": "GlyXUeSAAw1n"
      }
    },
    {
      "cell_type": "code",
      "source": [
        "#booleanos\n",
        "bool()\n",
        "True\n",
        "False"
      ],
      "metadata": {
        "id": "cTSYpEFz6T78"
      },
      "execution_count": null,
      "outputs": []
    },
    {
      "cell_type": "code",
      "source": [
        "#numericos\n",
        "int()\n",
        "5\n",
        "float()\n",
        "5.5\n"
      ],
      "metadata": {
        "id": "jRj4j2cc6hy8"
      },
      "execution_count": null,
      "outputs": []
    },
    {
      "cell_type": "code",
      "source": [
        "#string\n",
        "str()\n",
        "'oi'\n"
      ],
      "metadata": {
        "id": "WCAmB_wl6ok6"
      },
      "execution_count": null,
      "outputs": []
    },
    {
      "cell_type": "code",
      "source": [
        "#lista\n",
        "list()\n",
        "[1,2,3]"
      ],
      "metadata": {
        "id": "vGiohr_J6v4A",
        "outputId": "518fc85d-e1d3-4379-92e4-49736acf339c",
        "colab": {
          "base_uri": "https://localhost:8080/"
        }
      },
      "execution_count": 1,
      "outputs": [
        {
          "output_type": "execute_result",
          "data": {
            "text/plain": [
              "[1, 2, 3]"
            ]
          },
          "metadata": {},
          "execution_count": 1
        }
      ]
    },
    {
      "cell_type": "code",
      "source": [
        "#diccionario\n",
        "dict()\n",
        " {\"a\":1}\n"
      ],
      "metadata": {
        "id": "2j3F_77062PA",
        "outputId": "471ec7b2-63f1-4674-ed72-0fe73526b7db",
        "colab": {
          "base_uri": "https://localhost:8080/",
          "height": 108
        }
      },
      "execution_count": 16,
      "outputs": [
        {
          "output_type": "error",
          "ename": "IndentationError",
          "evalue": "unexpected indent (<ipython-input-16-4ad2a0607a80>, line 3)",
          "traceback": [
            "\u001b[0;36m  File \u001b[0;32m\"<ipython-input-16-4ad2a0607a80>\"\u001b[0;36m, line \u001b[0;32m3\u001b[0m\n\u001b[0;31m    {\"a\":1}\u001b[0m\n\u001b[0m    ^\u001b[0m\n\u001b[0;31mIndentationError\u001b[0m\u001b[0;31m:\u001b[0m unexpected indent\n"
          ]
        }
      ]
    },
    {
      "cell_type": "code",
      "source": [
        "dict[1]"
      ],
      "metadata": {
        "id": "7KSxomiG7Ond",
        "outputId": "809d2f04-dae3-4eda-854b-8a440332cb75",
        "colab": {
          "base_uri": "https://localhost:8080/"
        }
      },
      "execution_count": 7,
      "outputs": [
        {
          "output_type": "execute_result",
          "data": {
            "text/plain": [
              "dict[1]"
            ]
          },
          "metadata": {},
          "execution_count": 7
        }
      ]
    },
    {
      "cell_type": "code",
      "source": [
        "type('5.4')"
      ],
      "metadata": {
        "id": "PWqX-n-37xsP",
        "outputId": "9ab19014-38c9-4c35-ef2b-0e726f526945",
        "colab": {
          "base_uri": "https://localhost:8080/"
        }
      },
      "execution_count": 10,
      "outputs": [
        {
          "output_type": "execute_result",
          "data": {
            "text/plain": [
              "str"
            ]
          },
          "metadata": {},
          "execution_count": 10
        }
      ]
    },
    {
      "cell_type": "code",
      "source": [
        "type(5.4)"
      ],
      "metadata": {
        "id": "dyahRnpu8hvG",
        "outputId": "1f54f0e4-fd0e-40ca-f368-ba06673e158e",
        "colab": {
          "base_uri": "https://localhost:8080/"
        }
      },
      "execution_count": 17,
      "outputs": [
        {
          "output_type": "execute_result",
          "data": {
            "text/plain": [
              "float"
            ]
          },
          "metadata": {},
          "execution_count": 17
        }
      ]
    },
    {
      "cell_type": "markdown",
      "source": [
        "## Operaciones matematicas"
      ],
      "metadata": {
        "id": "PmK2UKPEA23H"
      }
    },
    {
      "cell_type": "code",
      "source": [
        "#suma\n",
        "3+3"
      ],
      "metadata": {
        "id": "4gmQ5dT78k2y",
        "outputId": "136402e4-bbd0-42ca-9919-36688de3d6a1",
        "colab": {
          "base_uri": "https://localhost:8080/"
        }
      },
      "execution_count": 18,
      "outputs": [
        {
          "output_type": "execute_result",
          "data": {
            "text/plain": [
              "6"
            ]
          },
          "metadata": {},
          "execution_count": 18
        }
      ]
    },
    {
      "cell_type": "code",
      "source": [
        "#potencia\n",
        "3**3"
      ],
      "metadata": {
        "id": "7Cl5S62z8t0S",
        "outputId": "6bf72f4f-65c4-40e4-9d89-bd11645b1b69",
        "colab": {
          "base_uri": "https://localhost:8080/"
        }
      },
      "execution_count": 19,
      "outputs": [
        {
          "output_type": "execute_result",
          "data": {
            "text/plain": [
              "27"
            ]
          },
          "metadata": {},
          "execution_count": 19
        }
      ]
    },
    {
      "cell_type": "code",
      "source": [
        "#division de aprte entera\n",
        "15//2"
      ],
      "metadata": {
        "id": "K31fCis38zm7",
        "outputId": "4c180807-9869-42e2-c850-9bef4f2d2575",
        "colab": {
          "base_uri": "https://localhost:8080/"
        }
      },
      "execution_count": 20,
      "outputs": [
        {
          "output_type": "execute_result",
          "data": {
            "text/plain": [
              "7"
            ]
          },
          "metadata": {},
          "execution_count": 20
        }
      ]
    },
    {
      "cell_type": "code",
      "source": [
        "#division resto o modulo\n",
        "3%2"
      ],
      "metadata": {
        "id": "ieaVRVhd9E5w",
        "outputId": "c33e9bef-db15-4532-82c1-01ecff20cffc",
        "colab": {
          "base_uri": "https://localhost:8080/"
        }
      },
      "execution_count": 21,
      "outputs": [
        {
          "output_type": "execute_result",
          "data": {
            "text/plain": [
              "1"
            ]
          },
          "metadata": {},
          "execution_count": 21
        }
      ]
    },
    {
      "cell_type": "code",
      "source": [
        "#llamar variable\n",
        "nombre = 3\n",
        "nombre"
      ],
      "metadata": {
        "id": "TLi5hGAX9Upk",
        "outputId": "aadbef79-9303-4027-b593-c7102de1dbcf",
        "colab": {
          "base_uri": "https://localhost:8080/"
        }
      },
      "execution_count": 24,
      "outputs": [
        {
          "output_type": "execute_result",
          "data": {
            "text/plain": [
              "3"
            ]
          },
          "metadata": {},
          "execution_count": 24
        }
      ]
    },
    {
      "cell_type": "code",
      "source": [
        "#Python es case sensitive\n",
        "Juan=9\n",
        "juan=10\n",
        "print(Juan)\n",
        "print(juan)"
      ],
      "metadata": {
        "id": "XEmkYqIH9wZv",
        "outputId": "3fd75d64-2d6d-477b-eb0f-8959b4aaed76",
        "colab": {
          "base_uri": "https://localhost:8080/"
        }
      },
      "execution_count": 25,
      "outputs": [
        {
          "output_type": "stream",
          "name": "stdout",
          "text": [
            "9\n",
            "10\n"
          ]
        }
      ]
    },
    {
      "cell_type": "markdown",
      "source": [
        "## Indexacion de codigo"
      ],
      "metadata": {
        "id": "hWEry_ch_rQF"
      }
    },
    {
      "cell_type": "code",
      "source": [
        "\"Python\"[0]"
      ],
      "metadata": {
        "id": "0n83Flm5_uN5",
        "outputId": "0efbe37e-0fcf-4776-e4c5-6d5341e3b684",
        "colab": {
          "base_uri": "https://localhost:8080/",
          "height": 35
        }
      },
      "execution_count": 27,
      "outputs": [
        {
          "output_type": "execute_result",
          "data": {
            "text/plain": [
              "'P'"
            ],
            "application/vnd.google.colaboratory.intrinsic+json": {
              "type": "string"
            }
          },
          "metadata": {},
          "execution_count": 27
        }
      ]
    },
    {
      "cell_type": "code",
      "source": [
        "\"Python\"[-1]"
      ],
      "metadata": {
        "id": "0UL40_YLAA-o",
        "outputId": "8bc398e1-c01d-429c-9905-4ac7bbdacf3f",
        "colab": {
          "base_uri": "https://localhost:8080/",
          "height": 35
        }
      },
      "execution_count": 28,
      "outputs": [
        {
          "output_type": "execute_result",
          "data": {
            "text/plain": [
              "'n'"
            ],
            "application/vnd.google.colaboratory.intrinsic+json": {
              "type": "string"
            }
          },
          "metadata": {},
          "execution_count": 28
        }
      ]
    },
    {
      "cell_type": "code",
      "source": [
        "#slicing\n",
        "\"Python\"[0:2]"
      ],
      "metadata": {
        "id": "BpsU5ldyAY8P",
        "outputId": "c7301768-6eda-46a5-b68c-5b6ed852fe7d",
        "colab": {
          "base_uri": "https://localhost:8080/",
          "height": 35
        }
      },
      "execution_count": 29,
      "outputs": [
        {
          "output_type": "execute_result",
          "data": {
            "text/plain": [
              "'Py'"
            ],
            "application/vnd.google.colaboratory.intrinsic+json": {
              "type": "string"
            }
          },
          "metadata": {},
          "execution_count": 29
        }
      ]
    },
    {
      "cell_type": "markdown",
      "source": [
        "## Propiedades de string\n",
        "  "
      ],
      "metadata": {
        "id": "EUWcIB2HA-nu"
      }
    },
    {
      "cell_type": "code",
      "source": [
        "#Title\n",
        "\"hola esto es un titulo\".title()"
      ],
      "metadata": {
        "id": "EJyVdFFEBCpf",
        "outputId": "54efca78-73ee-47e9-803d-093242aff8ba",
        "colab": {
          "base_uri": "https://localhost:8080/",
          "height": 35
        }
      },
      "execution_count": 35,
      "outputs": [
        {
          "output_type": "execute_result",
          "data": {
            "text/plain": [
              "'Hola Esto Es Un Titulo'"
            ],
            "application/vnd.google.colaboratory.intrinsic+json": {
              "type": "string"
            }
          },
          "metadata": {},
          "execution_count": 35
        }
      ]
    },
    {
      "cell_type": "code",
      "source": [
        "#Find\n",
        "\"hola esto es un titulo\".find('es')"
      ],
      "metadata": {
        "id": "ZYStIm_OBUvv",
        "outputId": "29d63314-b4ad-4679-db0c-2fe0a6d77bed",
        "colab": {
          "base_uri": "https://localhost:8080/"
        }
      },
      "execution_count": 36,
      "outputs": [
        {
          "output_type": "execute_result",
          "data": {
            "text/plain": [
              "5"
            ]
          },
          "metadata": {},
          "execution_count": 36
        }
      ]
    },
    {
      "cell_type": "code",
      "source": [
        "#Uppercase\n",
        "\"hola esto es un titulo\".upper()"
      ],
      "metadata": {
        "id": "abPlKPEBBbKP",
        "outputId": "08836e97-ed28-4f13-8ab9-98243f7b72dd",
        "colab": {
          "base_uri": "https://localhost:8080/",
          "height": 35
        }
      },
      "execution_count": 37,
      "outputs": [
        {
          "output_type": "execute_result",
          "data": {
            "text/plain": [
              "'HOLA ESTO ES UN TITULO'"
            ],
            "application/vnd.google.colaboratory.intrinsic+json": {
              "type": "string"
            }
          },
          "metadata": {},
          "execution_count": 37
        }
      ]
    },
    {
      "cell_type": "code",
      "source": [],
      "metadata": {
        "id": "QtYPqoqNBhbl"
      },
      "execution_count": 37,
      "outputs": []
    },
    {
      "cell_type": "markdown",
      "source": [],
      "metadata": {
        "id": "cNbJGlIcBjRn"
      }
    },
    {
      "cell_type": "markdown",
      "source": [
        "## Booleanos y operadores"
      ],
      "metadata": {
        "id": "VvcryuesBlWU"
      }
    },
    {
      "cell_type": "code",
      "source": [
        "#booleanos\n",
        "True\n",
        "False"
      ],
      "metadata": {
        "id": "8HU8jEZ8Bm8B",
        "outputId": "79362368-19de-4bf5-9f54-3a17ba8bf457",
        "colab": {
          "base_uri": "https://localhost:8080/"
        }
      },
      "execution_count": 38,
      "outputs": [
        {
          "output_type": "execute_result",
          "data": {
            "text/plain": [
              "False"
            ]
          },
          "metadata": {},
          "execution_count": 38
        }
      ]
    },
    {
      "cell_type": "code",
      "source": [
        "mi_variable = 5\n",
        "mi_variable"
      ],
      "metadata": {
        "id": "_fYFDzkgBsYI",
        "outputId": "9ec19282-c938-4201-b39d-b724a9c78fb5",
        "colab": {
          "base_uri": "https://localhost:8080/"
        }
      },
      "execution_count": 40,
      "outputs": [
        {
          "output_type": "execute_result",
          "data": {
            "text/plain": [
              "5"
            ]
          },
          "metadata": {},
          "execution_count": 40
        }
      ]
    },
    {
      "cell_type": "code",
      "source": [
        "mi_variable == 5"
      ],
      "metadata": {
        "id": "04hlfXf9BzBj",
        "outputId": "9743ac88-e676-4c3b-cea3-d278a6b2c419",
        "colab": {
          "base_uri": "https://localhost:8080/"
        }
      },
      "execution_count": 41,
      "outputs": [
        {
          "output_type": "execute_result",
          "data": {
            "text/plain": [
              "True"
            ]
          },
          "metadata": {},
          "execution_count": 41
        }
      ]
    },
    {
      "cell_type": "code",
      "source": [
        "mi_variable == 6 ## el doble igual es para preguntar"
      ],
      "metadata": {
        "id": "H1majuXsB1i_",
        "outputId": "08b6fe67-51e8-40e4-e860-3d150a76e29b",
        "colab": {
          "base_uri": "https://localhost:8080/"
        }
      },
      "execution_count": 42,
      "outputs": [
        {
          "output_type": "execute_result",
          "data": {
            "text/plain": [
              "False"
            ]
          },
          "metadata": {},
          "execution_count": 42
        }
      ]
    },
    {
      "cell_type": "code",
      "source": [
        "#operador de desigualdad\n",
        "mi_variable != 6 #Me dice true pq mi_variable es 5, entonces esto efectivamente es una desigualdad"
      ],
      "metadata": {
        "id": "2XjAiEHwCCxC",
        "outputId": "f978b838-f958-4995-d1cf-0b0038cb5429",
        "colab": {
          "base_uri": "https://localhost:8080/"
        }
      },
      "execution_count": 44,
      "outputs": [
        {
          "output_type": "execute_result",
          "data": {
            "text/plain": [
              "True"
            ]
          },
          "metadata": {},
          "execution_count": 44
        }
      ]
    },
    {
      "cell_type": "code",
      "source": [
        "#Operadores de mayor y menor\n",
        "mi_variable > 5"
      ],
      "metadata": {
        "id": "eTs3wZ9BCXs_",
        "outputId": "d9d0b4aa-8928-47f4-8a35-25b5d114faaa",
        "colab": {
          "base_uri": "https://localhost:8080/"
        }
      },
      "execution_count": 45,
      "outputs": [
        {
          "output_type": "execute_result",
          "data": {
            "text/plain": [
              "False"
            ]
          },
          "metadata": {},
          "execution_count": 45
        }
      ]
    },
    {
      "cell_type": "code",
      "source": [
        "mi_variable > 4"
      ],
      "metadata": {
        "id": "zX5eJ3D6CdK-",
        "outputId": "23c4e6ee-959f-41b9-9b0c-b10e132515eb",
        "colab": {
          "base_uri": "https://localhost:8080/"
        }
      },
      "execution_count": 46,
      "outputs": [
        {
          "output_type": "execute_result",
          "data": {
            "text/plain": [
              "True"
            ]
          },
          "metadata": {},
          "execution_count": 46
        }
      ]
    },
    {
      "cell_type": "code",
      "source": [
        "mi_variable >= 5"
      ],
      "metadata": {
        "id": "hbYUwPBwCmfh",
        "outputId": "bddfd947-0acd-4cb9-e58e-9350b6adbdde",
        "colab": {
          "base_uri": "https://localhost:8080/"
        }
      },
      "execution_count": 47,
      "outputs": [
        {
          "output_type": "execute_result",
          "data": {
            "text/plain": [
              "True"
            ]
          },
          "metadata": {},
          "execution_count": 47
        }
      ]
    },
    {
      "cell_type": "code",
      "source": [
        "#Operadores logicos\n",
        "not True"
      ],
      "metadata": {
        "id": "ngPUO0loCr7C",
        "outputId": "7185ae4a-f65e-4fdd-9f64-661f5fa67395",
        "colab": {
          "base_uri": "https://localhost:8080/"
        }
      },
      "execution_count": 48,
      "outputs": [
        {
          "output_type": "execute_result",
          "data": {
            "text/plain": [
              "False"
            ]
          },
          "metadata": {},
          "execution_count": 48
        }
      ]
    },
    {
      "cell_type": "code",
      "source": [
        "not False"
      ],
      "metadata": {
        "id": "rjcru4hiC2Cb",
        "outputId": "e003ebbb-3941-4557-d5b4-5fa7d046a746",
        "colab": {
          "base_uri": "https://localhost:8080/"
        }
      },
      "execution_count": 49,
      "outputs": [
        {
          "output_type": "execute_result",
          "data": {
            "text/plain": [
              "True"
            ]
          },
          "metadata": {},
          "execution_count": 49
        }
      ]
    },
    {
      "cell_type": "code",
      "source": [
        "# Los booleanos, el 0 lo toma como true y el 1 como false\n",
        "bool(0)"
      ],
      "metadata": {
        "id": "v0D9mCrpC_lS",
        "outputId": "435969f2-e7c1-4839-a71b-35e6a8d45e2b",
        "colab": {
          "base_uri": "https://localhost:8080/"
        }
      },
      "execution_count": 51,
      "outputs": [
        {
          "output_type": "execute_result",
          "data": {
            "text/plain": [
              "False"
            ]
          },
          "metadata": {},
          "execution_count": 51
        }
      ]
    },
    {
      "cell_type": "code",
      "source": [
        "# And (y) Que las condiciones se cumplan a la vez\n",
        "# True and True = True\n",
        "# True and False = False\n",
        "# False and True = False\n",
        "# False and False = False\n",
        "\n",
        "True and True\n",
        "True & True"
      ],
      "metadata": {
        "id": "mhvztNHPDNMk",
        "outputId": "bbfc5871-1fa4-4db6-c16d-4087d0ee372e",
        "colab": {
          "base_uri": "https://localhost:8080/"
        }
      },
      "execution_count": 53,
      "outputs": [
        {
          "output_type": "execute_result",
          "data": {
            "text/plain": [
              "True"
            ]
          },
          "metadata": {},
          "execution_count": 53
        }
      ]
    },
    {
      "cell_type": "code",
      "source": [
        "(4==4) and (5==5)"
      ],
      "metadata": {
        "id": "RS2wdBpKDzjX",
        "outputId": "5cb51650-e06c-45fd-8c44-0ec7172350e6",
        "colab": {
          "base_uri": "https://localhost:8080/"
        }
      },
      "execution_count": 54,
      "outputs": [
        {
          "output_type": "execute_result",
          "data": {
            "text/plain": [
              "True"
            ]
          },
          "metadata": {},
          "execution_count": 54
        }
      ]
    },
    {
      "cell_type": "code",
      "source": [
        "# Or (y) | Me dice que alguno de los dos debe cumplirse\n",
        "# True or True = True\n",
        "# True or False = True\n",
        "# False or True = True\n",
        "# False or False = False\n",
        "\n",
        "True or False\n",
        "True | False"
      ],
      "metadata": {
        "id": "Mt4C1fN4D19V",
        "outputId": "543cba5b-e430-4672-fd98-7a8c34f45e9b",
        "colab": {
          "base_uri": "https://localhost:8080/"
        }
      },
      "execution_count": 55,
      "outputs": [
        {
          "output_type": "execute_result",
          "data": {
            "text/plain": [
              "True"
            ]
          },
          "metadata": {},
          "execution_count": 55
        }
      ]
    },
    {
      "cell_type": "code",
      "source": [
        "#Operadores de pertenencia --> Me dice si un objeto esta dentro de un string o si un numero esta dentro de una lista\n",
        "\"a\" in \"hola\""
      ],
      "metadata": {
        "id": "9tb3eV3wELr0",
        "outputId": "6450dcc1-d88a-4e1b-9c73-1a689f027d70",
        "colab": {
          "base_uri": "https://localhost:8080/"
        }
      },
      "execution_count": 56,
      "outputs": [
        {
          "output_type": "execute_result",
          "data": {
            "text/plain": [
              "True"
            ]
          },
          "metadata": {},
          "execution_count": 56
        }
      ]
    },
    {
      "cell_type": "code",
      "source": [
        "5 in [1,2,3,4,5]"
      ],
      "metadata": {
        "id": "SFs_RTEVEWmi",
        "outputId": "4a316ddb-1f99-44e9-f53e-22703e488bf4",
        "colab": {
          "base_uri": "https://localhost:8080/"
        }
      },
      "execution_count": 58,
      "outputs": [
        {
          "output_type": "execute_result",
          "data": {
            "text/plain": [
              "True"
            ]
          },
          "metadata": {},
          "execution_count": 58
        }
      ]
    },
    {
      "cell_type": "code",
      "source": [
        "5 not in [1,2,3,4,5]"
      ],
      "metadata": {
        "id": "w6IuPgM-Ecul",
        "outputId": "45d384ff-a20a-4991-8d6c-4de9e9d65335",
        "colab": {
          "base_uri": "https://localhost:8080/"
        }
      },
      "execution_count": 59,
      "outputs": [
        {
          "output_type": "execute_result",
          "data": {
            "text/plain": [
              "False"
            ]
          },
          "metadata": {},
          "execution_count": 59
        }
      ]
    },
    {
      "cell_type": "markdown",
      "source": [
        "## Lista"
      ],
      "metadata": {
        "id": "oHwoBc60En-C"
      }
    },
    {
      "cell_type": "markdown",
      "source": [
        "### Conceptos basicos de las listas"
      ],
      "metadata": {
        "id": "a_kgMHiZKnBR"
      }
    },
    {
      "cell_type": "code",
      "source": [
        "# Las listas tienen orden\n",
        "[1,2,3]==[3,2,1]"
      ],
      "metadata": {
        "id": "5jJlfz4LEpM9",
        "outputId": "3371c5a8-c675-4230-e446-d91aedc8273c",
        "colab": {
          "base_uri": "https://localhost:8080/"
        }
      },
      "execution_count": 61,
      "outputs": [
        {
          "output_type": "execute_result",
          "data": {
            "text/plain": [
              "False"
            ]
          },
          "metadata": {},
          "execution_count": 61
        }
      ]
    },
    {
      "cell_type": "code",
      "source": [
        "# Son heterogeneas\n",
        "[1,2,3,\"a\"]"
      ],
      "metadata": {
        "id": "bh4J_xxVE6df",
        "outputId": "a7c3b0fd-e39b-4874-e467-219a05cb633c",
        "colab": {
          "base_uri": "https://localhost:8080/"
        }
      },
      "execution_count": 62,
      "outputs": [
        {
          "output_type": "execute_result",
          "data": {
            "text/plain": [
              "[1, 2, 3, 'a']"
            ]
          },
          "metadata": {},
          "execution_count": 62
        }
      ]
    },
    {
      "cell_type": "code",
      "source": [
        "# Son repetidas\n",
        "[1,2,2,2,2,3]"
      ],
      "metadata": {
        "id": "MGReMYn1FBnn",
        "outputId": "d04162cf-7830-41b0-a7f6-3f4d0d190f3a",
        "colab": {
          "base_uri": "https://localhost:8080/"
        }
      },
      "execution_count": 64,
      "outputs": [
        {
          "output_type": "execute_result",
          "data": {
            "text/plain": [
              "[1, 2, 2, 2, 2, 3]"
            ]
          },
          "metadata": {},
          "execution_count": 64
        }
      ]
    },
    {
      "cell_type": "code",
      "source": [
        "# Listas anidables\n",
        "[[1,2,3],[\"a\",\"b\",\"c\"],[True,False,True]]"
      ],
      "metadata": {
        "id": "f2993IPyFF-j",
        "outputId": "3cb457fb-b624-45ff-ef5f-6a387e362faf",
        "colab": {
          "base_uri": "https://localhost:8080/"
        }
      },
      "execution_count": 65,
      "outputs": [
        {
          "output_type": "execute_result",
          "data": {
            "text/plain": [
              "[[1, 2, 3], ['a', 'b', 'c'], [True, False, True]]"
            ]
          },
          "metadata": {},
          "execution_count": 65
        }
      ]
    },
    {
      "cell_type": "code",
      "source": [
        "Lista1=[1,2,3,4]\n",
        "Lista1[0]"
      ],
      "metadata": {
        "id": "IhfIrY-DFXVp",
        "outputId": "a8214243-0cda-4f85-acd6-f4bcec224ea6",
        "colab": {
          "base_uri": "https://localhost:8080/"
        }
      },
      "execution_count": 67,
      "outputs": [
        {
          "output_type": "execute_result",
          "data": {
            "text/plain": [
              "1"
            ]
          },
          "metadata": {},
          "execution_count": 67
        }
      ]
    },
    {
      "cell_type": "code",
      "source": [
        "Lista1[-1] #Esto es por la numeracion inversa"
      ],
      "metadata": {
        "id": "k1Q9YQG-FibD",
        "outputId": "d969aa29-4037-4fbe-a0de-a565e2a1d632",
        "colab": {
          "base_uri": "https://localhost:8080/"
        }
      },
      "execution_count": 68,
      "outputs": [
        {
          "output_type": "execute_result",
          "data": {
            "text/plain": [
              "4"
            ]
          },
          "metadata": {},
          "execution_count": 68
        }
      ]
    },
    {
      "cell_type": "markdown",
      "source": [
        "### Metodos y funciones que NO modifican las listas"
      ],
      "metadata": {
        "id": "m38m2WtDGoe7"
      }
    },
    {
      "cell_type": "code",
      "source": [
        "#Metodos Usuales --> Me devuelve el largo de la lista. Es decir la cantidad de objetos.\n",
        "len(Lista1)"
      ],
      "metadata": {
        "id": "a0fTuZd_F68B",
        "outputId": "3b055bc4-ab27-4bc1-fa4e-27b6ccb6b617",
        "colab": {
          "base_uri": "https://localhost:8080/"
        }
      },
      "execution_count": 69,
      "outputs": [
        {
          "output_type": "execute_result",
          "data": {
            "text/plain": [
              "4"
            ]
          },
          "metadata": {},
          "execution_count": 69
        }
      ]
    },
    {
      "cell_type": "code",
      "source": [
        "min(Lista1) #Me da el valor minimo de la lista"
      ],
      "metadata": {
        "id": "OnzO3g-3GECl",
        "outputId": "d30b0839-8330-442c-bc3a-a0f665ea50f9",
        "colab": {
          "base_uri": "https://localhost:8080/"
        }
      },
      "execution_count": 70,
      "outputs": [
        {
          "output_type": "execute_result",
          "data": {
            "text/plain": [
              "1"
            ]
          },
          "metadata": {},
          "execution_count": 70
        }
      ]
    },
    {
      "cell_type": "code",
      "source": [
        "max(Lista1) #Me da el valor maximo de la lista"
      ],
      "metadata": {
        "id": "KMd2fQttGSO4",
        "outputId": "b410dcf9-9eec-4235-8c62-1e648ffb44a2",
        "colab": {
          "base_uri": "https://localhost:8080/"
        }
      },
      "execution_count": 72,
      "outputs": [
        {
          "output_type": "execute_result",
          "data": {
            "text/plain": [
              "4"
            ]
          },
          "metadata": {},
          "execution_count": 72
        }
      ]
    },
    {
      "cell_type": "code",
      "source": [
        "sum(Lista1) #Me da la suma de los valores de la lista"
      ],
      "metadata": {
        "id": "I6DPoecvGa8N",
        "outputId": "9b96064a-ea4d-4dab-d97b-8f57a6808123",
        "colab": {
          "base_uri": "https://localhost:8080/"
        }
      },
      "execution_count": 73,
      "outputs": [
        {
          "output_type": "execute_result",
          "data": {
            "text/plain": [
              "10"
            ]
          },
          "metadata": {},
          "execution_count": 73
        }
      ]
    },
    {
      "cell_type": "code",
      "source": [],
      "metadata": {
        "id": "c4R_HrOuGtdn"
      },
      "execution_count": null,
      "outputs": []
    },
    {
      "cell_type": "markdown",
      "source": [
        "### Metodos y funciones que SI modifican las listas"
      ],
      "metadata": {
        "id": "jFhHox8vGuDN"
      }
    },
    {
      "cell_type": "code",
      "source": [
        "lista2=[4,5,6,7]\n",
        "print(\"Estas son mis dos listas agrupads\",Lista1+lista2)"
      ],
      "metadata": {
        "id": "NhHkf9dfGxR8",
        "outputId": "0203f0fe-91f0-4966-8605-142575aa23b2",
        "colab": {
          "base_uri": "https://localhost:8080/"
        }
      },
      "execution_count": 75,
      "outputs": [
        {
          "output_type": "stream",
          "name": "stdout",
          "text": [
            "Estas son mis dos listas agrupads [1, 2, 3, 4, 4, 5, 6, 7]\n"
          ]
        }
      ]
    },
    {
      "cell_type": "code",
      "source": [
        "#Lista.append me agrega un elemento a la lista\n",
        "Lista1.append(5)\n",
        "Lista1"
      ],
      "metadata": {
        "id": "iJ1uNQwnHK9N",
        "outputId": "eceef92d-f64f-4c0f-b8bb-a2bf4671f4d5",
        "colab": {
          "base_uri": "https://localhost:8080/"
        }
      },
      "execution_count": 76,
      "outputs": [
        {
          "output_type": "execute_result",
          "data": {
            "text/plain": [
              "[1, 2, 3, 4, 5]"
            ]
          },
          "metadata": {},
          "execution_count": 76
        }
      ]
    },
    {
      "cell_type": "code",
      "source": [
        "#Lista.extend me agrega una lista de elementos a la lista que ya tengo\n",
        "Lista1.extend([6,7,8])\n",
        "Lista1"
      ],
      "metadata": {
        "id": "358U7ZgnHclX",
        "outputId": "a65b4dbb-cdd8-4e08-d9a7-9580334310c3",
        "colab": {
          "base_uri": "https://localhost:8080/"
        }
      },
      "execution_count": 77,
      "outputs": [
        {
          "output_type": "execute_result",
          "data": {
            "text/plain": [
              "[1, 2, 3, 4, 5, 6, 7, 8]"
            ]
          },
          "metadata": {},
          "execution_count": 77
        }
      ]
    },
    {
      "cell_type": "code",
      "source": [
        "#Eliminar un elemento\n",
        "Lista1.remove(5)\n",
        "Lista1"
      ],
      "metadata": {
        "id": "QNuNrMEmIIPt",
        "outputId": "e920a775-f57a-4dbe-f665-0b3cc01df529",
        "colab": {
          "base_uri": "https://localhost:8080/"
        }
      },
      "execution_count": 78,
      "outputs": [
        {
          "output_type": "execute_result",
          "data": {
            "text/plain": [
              "[1, 2, 3, 4, 6, 7, 8]"
            ]
          },
          "metadata": {},
          "execution_count": 78
        }
      ]
    },
    {
      "cell_type": "code",
      "source": [
        "#Ordenar una lista (Esta ya estaba ordenada)\n",
        "Lista1.sort()\n",
        "Lista1"
      ],
      "metadata": {
        "id": "4iWzoSQaIS8F",
        "outputId": "8729a568-7919-4909-b43a-877fb57dd1e1",
        "colab": {
          "base_uri": "https://localhost:8080/"
        }
      },
      "execution_count": 79,
      "outputs": [
        {
          "output_type": "execute_result",
          "data": {
            "text/plain": [
              "[1, 2, 3, 4, 6, 7, 8]"
            ]
          },
          "metadata": {},
          "execution_count": 79
        }
      ]
    },
    {
      "cell_type": "code",
      "source": [
        "#Invertir el orden\n",
        "Lista1.reverse()\n",
        "Lista1"
      ],
      "metadata": {
        "id": "VxXqaDjhIi5l",
        "outputId": "de7583ed-c88f-4709-837e-f921f9456da0",
        "colab": {
          "base_uri": "https://localhost:8080/"
        }
      },
      "execution_count": 80,
      "outputs": [
        {
          "output_type": "execute_result",
          "data": {
            "text/plain": [
              "[8, 7, 6, 4, 3, 2, 1]"
            ]
          },
          "metadata": {},
          "execution_count": 80
        }
      ]
    },
    {
      "cell_type": "code",
      "source": [
        "#Armar una copia de una lista para agregar o sacar elementos\n",
        "Lista3=Lista1.copy()\n",
        "Lista3.remove(8)\n",
        "Lista3"
      ],
      "metadata": {
        "id": "jyGdSaoeJCqm",
        "outputId": "f09ed733-e448-459e-d3c8-90f17bafe003",
        "colab": {
          "base_uri": "https://localhost:8080/"
        }
      },
      "execution_count": 83,
      "outputs": [
        {
          "output_type": "execute_result",
          "data": {
            "text/plain": [
              "[7, 6, 4, 3, 2, 1]"
            ]
          },
          "metadata": {},
          "execution_count": 83
        }
      ]
    },
    {
      "cell_type": "markdown",
      "source": [
        "## Diccionarios\n",
        "\n",
        "Es una coleccion de pares formados por una clave y valor asociado a la clave\n",
        "\n",
        "La diferencia con la lista es que con diccionario le puedo poner nombre (clave) a los valores."
      ],
      "metadata": {
        "id": "URRQOPFkLDGp"
      }
    },
    {
      "cell_type": "code",
      "source": [
        "#Sin orden\n",
        "Dict1={\"a\":1,\"b\":2,\"c\":3}\n",
        "Dict1\n",
        "\n",
        "Dict2={\"a\":1,\"b\":2,\"c\":3}\n",
        "Dict2"
      ],
      "metadata": {
        "id": "30_esrH6LN1x",
        "outputId": "a1c7eed5-a332-4118-d099-3d59defe163c",
        "colab": {
          "base_uri": "https://localhost:8080/"
        }
      },
      "execution_count": 86,
      "outputs": [
        {
          "output_type": "execute_result",
          "data": {
            "text/plain": [
              "{'a': 1, 'b': 2, 'c': 3}"
            ]
          },
          "metadata": {},
          "execution_count": 86
        }
      ]
    },
    {
      "cell_type": "code",
      "source": [
        "Dict1==Dict2"
      ],
      "metadata": {
        "id": "w0nB6qQ_Le0t",
        "outputId": "ab18c6f1-8534-445b-e07b-9772a130547e",
        "colab": {
          "base_uri": "https://localhost:8080/"
        }
      },
      "execution_count": 87,
      "outputs": [
        {
          "output_type": "execute_result",
          "data": {
            "text/plain": [
              "True"
            ]
          },
          "metadata": {},
          "execution_count": 87
        }
      ]
    },
    {
      "cell_type": "code",
      "source": [
        "Dict1[\"a\"]"
      ],
      "metadata": {
        "id": "LPNNOhK5Lteh",
        "outputId": "23c7b74b-dc94-402a-b492-9e1609ccbfc4",
        "colab": {
          "base_uri": "https://localhost:8080/"
        }
      },
      "execution_count": 90,
      "outputs": [
        {
          "output_type": "execute_result",
          "data": {
            "text/plain": [
              "1"
            ]
          },
          "metadata": {},
          "execution_count": 90
        }
      ]
    },
    {
      "cell_type": "code",
      "source": [
        "Dict1.get(\"a\")"
      ],
      "metadata": {
        "id": "KiYl940FL2t3",
        "outputId": "a40cac60-7db0-4396-df57-c43d3ffdd785",
        "colab": {
          "base_uri": "https://localhost:8080/"
        }
      },
      "execution_count": 91,
      "outputs": [
        {
          "output_type": "execute_result",
          "data": {
            "text/plain": [
              "1"
            ]
          },
          "metadata": {},
          "execution_count": 91
        }
      ]
    },
    {
      "cell_type": "code",
      "source": [
        "Negocio={\"Productos\":{\"Auto\":1, \"Avion\":2},\"Servicios\":{\"Agua\":3,\"Luz\":4}}\n",
        "Negocio.get(\"Productos\")"
      ],
      "metadata": {
        "id": "nlDrJhyJMUyc",
        "outputId": "ad359a63-1cde-4a0e-fd5a-ee2f6b95c657",
        "colab": {
          "base_uri": "https://localhost:8080/"
        }
      },
      "execution_count": 92,
      "outputs": [
        {
          "output_type": "execute_result",
          "data": {
            "text/plain": [
              "{'Auto': 1, 'Avion': 2}"
            ]
          },
          "metadata": {},
          "execution_count": 92
        }
      ]
    },
    {
      "cell_type": "code",
      "source": [
        "Negocio[\"Productos\"][\"Auto\"]"
      ],
      "metadata": {
        "id": "P0oh4OMwMvgF",
        "outputId": "ad727279-4cf4-4216-ebe0-7fdb59ff2ff0",
        "colab": {
          "base_uri": "https://localhost:8080/"
        }
      },
      "execution_count": 93,
      "outputs": [
        {
          "output_type": "execute_result",
          "data": {
            "text/plain": [
              "1"
            ]
          },
          "metadata": {},
          "execution_count": 93
        }
      ]
    },
    {
      "cell_type": "code",
      "source": [
        "min(Negocio[\"Productos\"].keys())"
      ],
      "metadata": {
        "id": "EevmTkQdM0Qb",
        "outputId": "a1a31973-713e-49bf-a4ba-2a858488e936",
        "colab": {
          "base_uri": "https://localhost:8080/",
          "height": 35
        }
      },
      "execution_count": 108,
      "outputs": [
        {
          "output_type": "execute_result",
          "data": {
            "text/plain": [
              "'Auto'"
            ],
            "application/vnd.google.colaboratory.intrinsic+json": {
              "type": "string"
            }
          },
          "metadata": {},
          "execution_count": 108
        }
      ]
    },
    {
      "cell_type": "code",
      "source": [
        "Negocio={\"Productos\":{\"Auto\":1, \"Avion\":2},\"Servicios\":{\"Agua\":3,\"Luz\":4}}\n",
        "Negocio.keys()"
      ],
      "metadata": {
        "id": "jDoq9y9WOM0c",
        "outputId": "6ea6c39c-5fbf-4465-e87b-686ad6e9ee82",
        "colab": {
          "base_uri": "https://localhost:8080/"
        }
      },
      "execution_count": 109,
      "outputs": [
        {
          "output_type": "execute_result",
          "data": {
            "text/plain": [
              "dict_keys(['Productos', 'Servicios'])"
            ]
          },
          "metadata": {},
          "execution_count": 109
        }
      ]
    },
    {
      "cell_type": "code",
      "source": [
        "Negocio2={'a':10, 'b': 20, 'c': 30}\n",
        "Negocio3={'d': 40, 'e': 50, 'f': 60}\n",
        "Negocio2.update(Negocio3)\n",
        "Negocio2\n",
        "#Me permite agregar un diccionario a otro"
      ],
      "metadata": {
        "id": "V9G2k_VLOdgo",
        "outputId": "f34388ba-207d-461a-a135-24d0eb4916db",
        "colab": {
          "base_uri": "https://localhost:8080/"
        }
      },
      "execution_count": 118,
      "outputs": [
        {
          "output_type": "execute_result",
          "data": {
            "text/plain": [
              "{'a': 10, 'b': 20, 'c': 30, 'd': 40, 'e': 50, 'f': 60}"
            ]
          },
          "metadata": {},
          "execution_count": 118
        }
      ]
    },
    {
      "cell_type": "code",
      "source": [
        "#.pop es para eliminar en diccionarios\n",
        "Negocio2.pop(\"a\")"
      ],
      "metadata": {
        "id": "yaZV0pV3Owo8",
        "outputId": "c4a83f37-99f4-4be8-b7e2-5f44843a65e6",
        "colab": {
          "base_uri": "https://localhost:8080/"
        }
      },
      "execution_count": 119,
      "outputs": [
        {
          "output_type": "execute_result",
          "data": {
            "text/plain": [
              "10"
            ]
          },
          "metadata": {},
          "execution_count": 119
        }
      ]
    },
    {
      "cell_type": "code",
      "source": [
        "#.del es lo mismo pero no devulve. Elimina pero no devuelve\n",
        "del Negocio2[\"b\"]\n"
      ],
      "metadata": {
        "id": "84gnodILPFTL"
      },
      "execution_count": 120,
      "outputs": []
    },
    {
      "cell_type": "markdown",
      "source": [
        "## Estructura de flujos"
      ],
      "metadata": {
        "id": "qOwLqR-xPu0c"
      }
    },
    {
      "cell_type": "markdown",
      "source": [
        "### Ejemplo If"
      ],
      "metadata": {
        "id": "M4FkNDx0QGpg"
      }
    },
    {
      "cell_type": "code",
      "source": [
        "#Ejemplo If\n",
        "persona1= \"Ramona\"\n",
        "persona2= \"Clara\"\n",
        "persona3= \"Susana\"\n",
        "\n",
        "if persona1==\"Susana\": #Uso un operador lógico (==) para comparar si se es igual a Susana el nombre\n",
        "    print(\"Hola Susana te estamos llamando queremos jugar\")\n",
        "    print(\"Susana es la persona 1\")\n",
        "elif persona2==\"Susana\":\n",
        "    print(\"Hola Susana te estamos llamando queremos jugar\")\n",
        "    print(\"Susana es la persona 2\")\n",
        "elif persona3==\"Susana\":\n",
        "    print(\"Hola Susana te estamos llamando queremos jugar\")\n",
        "    print(\"Susana es la persona 3\")\n",
        "else:\n",
        "    print(\"Susana no está\")"
      ],
      "metadata": {
        "id": "gXQDcqVkQI6N",
        "outputId": "dc2ca98c-82ae-4590-d274-fe1dc1133a57",
        "colab": {
          "base_uri": "https://localhost:8080/"
        }
      },
      "execution_count": 121,
      "outputs": [
        {
          "output_type": "stream",
          "name": "stdout",
          "text": [
            "Hola Susana te estamos llamando queremos jugar\n",
            "Susana es la persona 3\n"
          ]
        }
      ]
    },
    {
      "cell_type": "code",
      "source": [
        "#Ejemplo If\n",
        "persona1= \"Ramona\"\n",
        "persona2= \"Clara\"\n",
        "persona3= \"Maria\"\n",
        "\n",
        "if persona1==\"Susana\": #Uso un operador lógico (==) para comparar si se es igual a Susana el nombre\n",
        "    print(\"Hola Susana te estamos llamando queremos jugar\")\n",
        "    print(\"Susana es la persona 1\")\n",
        "elif persona2==\"Susana\":\n",
        "    print(\"Hola Susana te estamos llamando queremos jugar\")\n",
        "    print(\"Susana es la persona 2\")\n",
        "elif persona3==\"Susana\":\n",
        "    print(\"Hola Susana te estamos llamando queremos jugar\")\n",
        "    print(\"Susana es la persona 3\")\n",
        "else:\n",
        "    print(\"Susana no está\")"
      ],
      "metadata": {
        "id": "6HpmheVPRWJK",
        "outputId": "c650c27f-4e79-4222-cbd9-56f97e5ee1cc",
        "colab": {
          "base_uri": "https://localhost:8080/"
        }
      },
      "execution_count": 122,
      "outputs": [
        {
          "output_type": "stream",
          "name": "stdout",
          "text": [
            "Susana no está\n"
          ]
        }
      ]
    },
    {
      "cell_type": "code",
      "source": [
        "'''\n",
        "Identacion\n",
        "Cuando usamos if, todo lo que este dentro de una condicion if, elif o else, tiene que estar identado.\n",
        "Es decir, hay que poner 4 espacios antes de cada linea de codigo que este dentro de la condicion.\n",
        "'''\n"
      ],
      "metadata": {
        "id": "aWfKtCLqScue"
      },
      "execution_count": null,
      "outputs": []
    },
    {
      "cell_type": "code",
      "source": [
        "count=0\n",
        "while count<5:\n",
        "    count=count+1\n",
        "    print(count)\n",
        "\n",
        "'''\n",
        "Lo que pasa aca, es que cuenta  a partir de 0+1\n",
        "hasta que que count es igual a 5. La lista termina en 5 pq se da\n",
        "cuando el count anterior es 4 (cumple con el while) y luego\n",
        "suma 1 y llega a 5. Ahi el count pasa a ser 5 y se corta la funcion\n",
        "'''"
      ],
      "metadata": {
        "id": "zECALkkmTHDW",
        "outputId": "ad422411-ad77-4b13-dcbd-83552d900d22",
        "colab": {
          "base_uri": "https://localhost:8080/"
        }
      },
      "execution_count": 125,
      "outputs": [
        {
          "output_type": "stream",
          "name": "stdout",
          "text": [
            "1\n",
            "2\n",
            "3\n",
            "4\n",
            "5\n"
          ]
        }
      ]
    },
    {
      "cell_type": "markdown",
      "source": [
        "### For Iterativo\n"
      ],
      "metadata": {
        "id": "Fc9GYDAVT6IC"
      }
    },
    {
      "cell_type": "code",
      "source": [
        "for num in [1,2,3,4,5]\n",
        " print(num**2)"
      ],
      "metadata": {
        "id": "oGDH69J2UHDb",
        "outputId": "a3b4f3da-5c91-41f6-de04-507de57f5bcd",
        "colab": {
          "base_uri": "https://localhost:8080/",
          "height": 108
        }
      },
      "execution_count": 128,
      "outputs": [
        {
          "output_type": "error",
          "ename": "SyntaxError",
          "evalue": "expected ':' (<ipython-input-128-141e3085f806>, line 1)",
          "traceback": [
            "\u001b[0;36m  File \u001b[0;32m\"<ipython-input-128-141e3085f806>\"\u001b[0;36m, line \u001b[0;32m1\u001b[0m\n\u001b[0;31m    for num in [1,2,3,4,5]\u001b[0m\n\u001b[0m                          ^\u001b[0m\n\u001b[0;31mSyntaxError\u001b[0m\u001b[0;31m:\u001b[0m expected ':'\n"
          ]
        }
      ]
    },
    {
      "cell_type": "code",
      "source": [],
      "metadata": {
        "id": "uIyf8lmXUiOp"
      },
      "execution_count": null,
      "outputs": []
    },
    {
      "cell_type": "markdown",
      "source": [
        "### FUNCIONES\n",
        "\n",
        "Es un bloque de codigo que asociado a un nombre que puedo ejecutar muchas veces"
      ],
      "metadata": {
        "id": "haZOcVy5UimT"
      }
    },
    {
      "cell_type": "code",
      "source": [
        "#Ejemplo funcion saludor\n",
        "def saludar():\n",
        "    print(\"Hola, ¿Como estas?\")\n",
        "    return \"Este es mi saludo\"\n",
        "\n",
        "saludo=saludar()\n",
        "print(saludo)"
      ],
      "metadata": {
        "id": "m4AnIbYhUoM-",
        "outputId": "4ce8edc4-0813-409f-ad5b-4aa4d51a989e",
        "colab": {
          "base_uri": "https://localhost:8080/"
        }
      },
      "execution_count": 131,
      "outputs": [
        {
          "output_type": "stream",
          "name": "stdout",
          "text": [
            "Hola, ¿Como estas?\n",
            "Este es mi saludo\n"
          ]
        }
      ]
    },
    {
      "cell_type": "code",
      "source": [
        "saludo"
      ],
      "metadata": {
        "id": "ldhf6B3TVg9R",
        "outputId": "3b9c31bd-46f5-46af-9478-61d9b5bf789a",
        "colab": {
          "base_uri": "https://localhost:8080/",
          "height": 35
        }
      },
      "execution_count": 132,
      "outputs": [
        {
          "output_type": "execute_result",
          "data": {
            "text/plain": [
              "'Este es mi saludo'"
            ],
            "application/vnd.google.colaboratory.intrinsic+json": {
              "type": "string"
            }
          },
          "metadata": {},
          "execution_count": 132
        }
      ]
    },
    {
      "cell_type": "code",
      "source": [
        "def sumar(a,b):\n",
        "  print(\"este es mi valor a\",a)\n",
        "  print(\"este es mi valor b\",b)\n",
        "  print(\"la suma es\",a+b)\n",
        "  return a+b"
      ],
      "metadata": {
        "id": "aCZ59IBcVlqF"
      },
      "execution_count": 133,
      "outputs": []
    },
    {
      "cell_type": "code",
      "source": [
        "sumar(100,200)"
      ],
      "metadata": {
        "id": "vMiGJqEnWQQy",
        "outputId": "03ec2e43-a20c-4a0e-a4fd-252f79930f26",
        "colab": {
          "base_uri": "https://localhost:8080/"
        }
      },
      "execution_count": 134,
      "outputs": [
        {
          "output_type": "stream",
          "name": "stdout",
          "text": [
            "este es mi valor a 100\n",
            "este es mi valor b 200\n",
            "la suma es 300\n"
          ]
        },
        {
          "output_type": "execute_result",
          "data": {
            "text/plain": [
              "300"
            ]
          },
          "metadata": {},
          "execution_count": 134
        }
      ]
    },
    {
      "cell_type": "code",
      "source": [
        "Calculadora=sumar(20,200)"
      ],
      "metadata": {
        "id": "BVJyP9nrWUsi",
        "outputId": "bb3999ff-2c89-4927-810b-7a73f76b1947",
        "colab": {
          "base_uri": "https://localhost:8080/"
        }
      },
      "execution_count": 136,
      "outputs": [
        {
          "output_type": "stream",
          "name": "stdout",
          "text": [
            "este es mi valor a 20\n",
            "este es mi valor b 200\n",
            "la suma es 220\n"
          ]
        }
      ]
    },
    {
      "cell_type": "code",
      "source": [
        "Calculadora"
      ],
      "metadata": {
        "id": "YooYnqMaWc6g",
        "outputId": "14424918-d270-4ba1-c750-e437bc52aa19",
        "colab": {
          "base_uri": "https://localhost:8080/"
        }
      },
      "execution_count": 137,
      "outputs": [
        {
          "output_type": "execute_result",
          "data": {
            "text/plain": [
              "220"
            ]
          },
          "metadata": {},
          "execution_count": 137
        }
      ]
    },
    {
      "cell_type": "code",
      "source": [
        "def sumar(a,b):\n",
        "  print(\"este es mi valor a\",a)\n",
        "  print(\"este es mi valor b\",b)\n",
        "  print(\"la suma es\",a+b)\n",
        "  return (a+b,a,b)"
      ],
      "metadata": {
        "id": "ZroV6A9vWmBd"
      },
      "execution_count": 138,
      "outputs": []
    },
    {
      "cell_type": "code",
      "source": [
        "sumar(20,200)"
      ],
      "metadata": {
        "id": "DGztxAn5WqcN",
        "outputId": "13e2880a-c2ca-47ee-f3cd-64fcad40a070",
        "colab": {
          "base_uri": "https://localhost:8080/"
        }
      },
      "execution_count": 140,
      "outputs": [
        {
          "output_type": "stream",
          "name": "stdout",
          "text": [
            "este es mi valor a 20\n",
            "este es mi valor b 200\n",
            "la suma es 220\n"
          ]
        },
        {
          "output_type": "execute_result",
          "data": {
            "text/plain": [
              "(220, 20, 200)"
            ]
          },
          "metadata": {},
          "execution_count": 140
        }
      ]
    },
    {
      "cell_type": "markdown",
      "source": [
        "## Importar Libreria"
      ],
      "metadata": {
        "id": "ifRHelwHW8TR"
      }
    },
    {
      "cell_type": "code",
      "source": [
        "import pandas as pd\n",
        "# El \"as pd\" es para acortar el nomnbre para cuando necesitemos llamar a la libreria\n",
        "\n"
      ],
      "metadata": {
        "id": "7cW47pzCXPXq"
      },
      "execution_count": 141,
      "outputs": []
    },
    {
      "cell_type": "code",
      "source": [],
      "metadata": {
        "id": "i1qEPuYtXbYk"
      },
      "execution_count": null,
      "outputs": []
    },
    {
      "cell_type": "markdown",
      "source": [
        "### Leer archivos"
      ],
      "metadata": {
        "id": "R2SJIbxHXbzW"
      }
    },
    {
      "cell_type": "code",
      "source": [
        "pd.read_csv(\"sample_data/california_housing_train.csv\")"
      ],
      "metadata": {
        "id": "NaCZKGGHXdg_",
        "outputId": "96c648a5-48f0-497b-a625-a6d0dd63c81f",
        "colab": {
          "base_uri": "https://localhost:8080/",
          "height": 444
        }
      },
      "execution_count": 146,
      "outputs": [
        {
          "output_type": "execute_result",
          "data": {
            "text/plain": [
              "       longitude  latitude  housing_median_age  total_rooms  total_bedrooms  \\\n",
              "0        -114.31     34.19                15.0       5612.0          1283.0   \n",
              "1        -114.47     34.40                19.0       7650.0          1901.0   \n",
              "2        -114.56     33.69                17.0        720.0           174.0   \n",
              "3        -114.57     33.64                14.0       1501.0           337.0   \n",
              "4        -114.57     33.57                20.0       1454.0           326.0   \n",
              "...          ...       ...                 ...          ...             ...   \n",
              "16995    -124.26     40.58                52.0       2217.0           394.0   \n",
              "16996    -124.27     40.69                36.0       2349.0           528.0   \n",
              "16997    -124.30     41.84                17.0       2677.0           531.0   \n",
              "16998    -124.30     41.80                19.0       2672.0           552.0   \n",
              "16999    -124.35     40.54                52.0       1820.0           300.0   \n",
              "\n",
              "       population  households  median_income  median_house_value  \n",
              "0          1015.0       472.0         1.4936             66900.0  \n",
              "1          1129.0       463.0         1.8200             80100.0  \n",
              "2           333.0       117.0         1.6509             85700.0  \n",
              "3           515.0       226.0         3.1917             73400.0  \n",
              "4           624.0       262.0         1.9250             65500.0  \n",
              "...           ...         ...            ...                 ...  \n",
              "16995       907.0       369.0         2.3571            111400.0  \n",
              "16996      1194.0       465.0         2.5179             79000.0  \n",
              "16997      1244.0       456.0         3.0313            103600.0  \n",
              "16998      1298.0       478.0         1.9797             85800.0  \n",
              "16999       806.0       270.0         3.0147             94600.0  \n",
              "\n",
              "[17000 rows x 9 columns]"
            ],
            "text/html": [
              "\n",
              "  <div id=\"df-4279af28-1b98-4e1d-ad36-d8a12a81f9e3\" class=\"colab-df-container\">\n",
              "    <div>\n",
              "<style scoped>\n",
              "    .dataframe tbody tr th:only-of-type {\n",
              "        vertical-align: middle;\n",
              "    }\n",
              "\n",
              "    .dataframe tbody tr th {\n",
              "        vertical-align: top;\n",
              "    }\n",
              "\n",
              "    .dataframe thead th {\n",
              "        text-align: right;\n",
              "    }\n",
              "</style>\n",
              "<table border=\"1\" class=\"dataframe\">\n",
              "  <thead>\n",
              "    <tr style=\"text-align: right;\">\n",
              "      <th></th>\n",
              "      <th>longitude</th>\n",
              "      <th>latitude</th>\n",
              "      <th>housing_median_age</th>\n",
              "      <th>total_rooms</th>\n",
              "      <th>total_bedrooms</th>\n",
              "      <th>population</th>\n",
              "      <th>households</th>\n",
              "      <th>median_income</th>\n",
              "      <th>median_house_value</th>\n",
              "    </tr>\n",
              "  </thead>\n",
              "  <tbody>\n",
              "    <tr>\n",
              "      <th>0</th>\n",
              "      <td>-114.31</td>\n",
              "      <td>34.19</td>\n",
              "      <td>15.0</td>\n",
              "      <td>5612.0</td>\n",
              "      <td>1283.0</td>\n",
              "      <td>1015.0</td>\n",
              "      <td>472.0</td>\n",
              "      <td>1.4936</td>\n",
              "      <td>66900.0</td>\n",
              "    </tr>\n",
              "    <tr>\n",
              "      <th>1</th>\n",
              "      <td>-114.47</td>\n",
              "      <td>34.40</td>\n",
              "      <td>19.0</td>\n",
              "      <td>7650.0</td>\n",
              "      <td>1901.0</td>\n",
              "      <td>1129.0</td>\n",
              "      <td>463.0</td>\n",
              "      <td>1.8200</td>\n",
              "      <td>80100.0</td>\n",
              "    </tr>\n",
              "    <tr>\n",
              "      <th>2</th>\n",
              "      <td>-114.56</td>\n",
              "      <td>33.69</td>\n",
              "      <td>17.0</td>\n",
              "      <td>720.0</td>\n",
              "      <td>174.0</td>\n",
              "      <td>333.0</td>\n",
              "      <td>117.0</td>\n",
              "      <td>1.6509</td>\n",
              "      <td>85700.0</td>\n",
              "    </tr>\n",
              "    <tr>\n",
              "      <th>3</th>\n",
              "      <td>-114.57</td>\n",
              "      <td>33.64</td>\n",
              "      <td>14.0</td>\n",
              "      <td>1501.0</td>\n",
              "      <td>337.0</td>\n",
              "      <td>515.0</td>\n",
              "      <td>226.0</td>\n",
              "      <td>3.1917</td>\n",
              "      <td>73400.0</td>\n",
              "    </tr>\n",
              "    <tr>\n",
              "      <th>4</th>\n",
              "      <td>-114.57</td>\n",
              "      <td>33.57</td>\n",
              "      <td>20.0</td>\n",
              "      <td>1454.0</td>\n",
              "      <td>326.0</td>\n",
              "      <td>624.0</td>\n",
              "      <td>262.0</td>\n",
              "      <td>1.9250</td>\n",
              "      <td>65500.0</td>\n",
              "    </tr>\n",
              "    <tr>\n",
              "      <th>...</th>\n",
              "      <td>...</td>\n",
              "      <td>...</td>\n",
              "      <td>...</td>\n",
              "      <td>...</td>\n",
              "      <td>...</td>\n",
              "      <td>...</td>\n",
              "      <td>...</td>\n",
              "      <td>...</td>\n",
              "      <td>...</td>\n",
              "    </tr>\n",
              "    <tr>\n",
              "      <th>16995</th>\n",
              "      <td>-124.26</td>\n",
              "      <td>40.58</td>\n",
              "      <td>52.0</td>\n",
              "      <td>2217.0</td>\n",
              "      <td>394.0</td>\n",
              "      <td>907.0</td>\n",
              "      <td>369.0</td>\n",
              "      <td>2.3571</td>\n",
              "      <td>111400.0</td>\n",
              "    </tr>\n",
              "    <tr>\n",
              "      <th>16996</th>\n",
              "      <td>-124.27</td>\n",
              "      <td>40.69</td>\n",
              "      <td>36.0</td>\n",
              "      <td>2349.0</td>\n",
              "      <td>528.0</td>\n",
              "      <td>1194.0</td>\n",
              "      <td>465.0</td>\n",
              "      <td>2.5179</td>\n",
              "      <td>79000.0</td>\n",
              "    </tr>\n",
              "    <tr>\n",
              "      <th>16997</th>\n",
              "      <td>-124.30</td>\n",
              "      <td>41.84</td>\n",
              "      <td>17.0</td>\n",
              "      <td>2677.0</td>\n",
              "      <td>531.0</td>\n",
              "      <td>1244.0</td>\n",
              "      <td>456.0</td>\n",
              "      <td>3.0313</td>\n",
              "      <td>103600.0</td>\n",
              "    </tr>\n",
              "    <tr>\n",
              "      <th>16998</th>\n",
              "      <td>-124.30</td>\n",
              "      <td>41.80</td>\n",
              "      <td>19.0</td>\n",
              "      <td>2672.0</td>\n",
              "      <td>552.0</td>\n",
              "      <td>1298.0</td>\n",
              "      <td>478.0</td>\n",
              "      <td>1.9797</td>\n",
              "      <td>85800.0</td>\n",
              "    </tr>\n",
              "    <tr>\n",
              "      <th>16999</th>\n",
              "      <td>-124.35</td>\n",
              "      <td>40.54</td>\n",
              "      <td>52.0</td>\n",
              "      <td>1820.0</td>\n",
              "      <td>300.0</td>\n",
              "      <td>806.0</td>\n",
              "      <td>270.0</td>\n",
              "      <td>3.0147</td>\n",
              "      <td>94600.0</td>\n",
              "    </tr>\n",
              "  </tbody>\n",
              "</table>\n",
              "<p>17000 rows × 9 columns</p>\n",
              "</div>\n",
              "    <div class=\"colab-df-buttons\">\n",
              "\n",
              "  <div class=\"colab-df-container\">\n",
              "    <button class=\"colab-df-convert\" onclick=\"convertToInteractive('df-4279af28-1b98-4e1d-ad36-d8a12a81f9e3')\"\n",
              "            title=\"Convert this dataframe to an interactive table.\"\n",
              "            style=\"display:none;\">\n",
              "\n",
              "  <svg xmlns=\"http://www.w3.org/2000/svg\" height=\"24px\" viewBox=\"0 -960 960 960\">\n",
              "    <path d=\"M120-120v-720h720v720H120Zm60-500h600v-160H180v160Zm220 220h160v-160H400v160Zm0 220h160v-160H400v160ZM180-400h160v-160H180v160Zm440 0h160v-160H620v160ZM180-180h160v-160H180v160Zm440 0h160v-160H620v160Z\"/>\n",
              "  </svg>\n",
              "    </button>\n",
              "\n",
              "  <style>\n",
              "    .colab-df-container {\n",
              "      display:flex;\n",
              "      gap: 12px;\n",
              "    }\n",
              "\n",
              "    .colab-df-convert {\n",
              "      background-color: #E8F0FE;\n",
              "      border: none;\n",
              "      border-radius: 50%;\n",
              "      cursor: pointer;\n",
              "      display: none;\n",
              "      fill: #1967D2;\n",
              "      height: 32px;\n",
              "      padding: 0 0 0 0;\n",
              "      width: 32px;\n",
              "    }\n",
              "\n",
              "    .colab-df-convert:hover {\n",
              "      background-color: #E2EBFA;\n",
              "      box-shadow: 0px 1px 2px rgba(60, 64, 67, 0.3), 0px 1px 3px 1px rgba(60, 64, 67, 0.15);\n",
              "      fill: #174EA6;\n",
              "    }\n",
              "\n",
              "    .colab-df-buttons div {\n",
              "      margin-bottom: 4px;\n",
              "    }\n",
              "\n",
              "    [theme=dark] .colab-df-convert {\n",
              "      background-color: #3B4455;\n",
              "      fill: #D2E3FC;\n",
              "    }\n",
              "\n",
              "    [theme=dark] .colab-df-convert:hover {\n",
              "      background-color: #434B5C;\n",
              "      box-shadow: 0px 1px 3px 1px rgba(0, 0, 0, 0.15);\n",
              "      filter: drop-shadow(0px 1px 2px rgba(0, 0, 0, 0.3));\n",
              "      fill: #FFFFFF;\n",
              "    }\n",
              "  </style>\n",
              "\n",
              "    <script>\n",
              "      const buttonEl =\n",
              "        document.querySelector('#df-4279af28-1b98-4e1d-ad36-d8a12a81f9e3 button.colab-df-convert');\n",
              "      buttonEl.style.display =\n",
              "        google.colab.kernel.accessAllowed ? 'block' : 'none';\n",
              "\n",
              "      async function convertToInteractive(key) {\n",
              "        const element = document.querySelector('#df-4279af28-1b98-4e1d-ad36-d8a12a81f9e3');\n",
              "        const dataTable =\n",
              "          await google.colab.kernel.invokeFunction('convertToInteractive',\n",
              "                                                    [key], {});\n",
              "        if (!dataTable) return;\n",
              "\n",
              "        const docLinkHtml = 'Like what you see? Visit the ' +\n",
              "          '<a target=\"_blank\" href=https://colab.research.google.com/notebooks/data_table.ipynb>data table notebook</a>'\n",
              "          + ' to learn more about interactive tables.';\n",
              "        element.innerHTML = '';\n",
              "        dataTable['output_type'] = 'display_data';\n",
              "        await google.colab.output.renderOutput(dataTable, element);\n",
              "        const docLink = document.createElement('div');\n",
              "        docLink.innerHTML = docLinkHtml;\n",
              "        element.appendChild(docLink);\n",
              "      }\n",
              "    </script>\n",
              "  </div>\n",
              "\n",
              "\n",
              "<div id=\"df-bb6ccc80-0b29-455f-9da6-7180d2720a3c\">\n",
              "  <button class=\"colab-df-quickchart\" onclick=\"quickchart('df-bb6ccc80-0b29-455f-9da6-7180d2720a3c')\"\n",
              "            title=\"Suggest charts\"\n",
              "            style=\"display:none;\">\n",
              "\n",
              "<svg xmlns=\"http://www.w3.org/2000/svg\" height=\"24px\"viewBox=\"0 0 24 24\"\n",
              "     width=\"24px\">\n",
              "    <g>\n",
              "        <path d=\"M19 3H5c-1.1 0-2 .9-2 2v14c0 1.1.9 2 2 2h14c1.1 0 2-.9 2-2V5c0-1.1-.9-2-2-2zM9 17H7v-7h2v7zm4 0h-2V7h2v10zm4 0h-2v-4h2v4z\"/>\n",
              "    </g>\n",
              "</svg>\n",
              "  </button>\n",
              "\n",
              "<style>\n",
              "  .colab-df-quickchart {\n",
              "      --bg-color: #E8F0FE;\n",
              "      --fill-color: #1967D2;\n",
              "      --hover-bg-color: #E2EBFA;\n",
              "      --hover-fill-color: #174EA6;\n",
              "      --disabled-fill-color: #AAA;\n",
              "      --disabled-bg-color: #DDD;\n",
              "  }\n",
              "\n",
              "  [theme=dark] .colab-df-quickchart {\n",
              "      --bg-color: #3B4455;\n",
              "      --fill-color: #D2E3FC;\n",
              "      --hover-bg-color: #434B5C;\n",
              "      --hover-fill-color: #FFFFFF;\n",
              "      --disabled-bg-color: #3B4455;\n",
              "      --disabled-fill-color: #666;\n",
              "  }\n",
              "\n",
              "  .colab-df-quickchart {\n",
              "    background-color: var(--bg-color);\n",
              "    border: none;\n",
              "    border-radius: 50%;\n",
              "    cursor: pointer;\n",
              "    display: none;\n",
              "    fill: var(--fill-color);\n",
              "    height: 32px;\n",
              "    padding: 0;\n",
              "    width: 32px;\n",
              "  }\n",
              "\n",
              "  .colab-df-quickchart:hover {\n",
              "    background-color: var(--hover-bg-color);\n",
              "    box-shadow: 0 1px 2px rgba(60, 64, 67, 0.3), 0 1px 3px 1px rgba(60, 64, 67, 0.15);\n",
              "    fill: var(--button-hover-fill-color);\n",
              "  }\n",
              "\n",
              "  .colab-df-quickchart-complete:disabled,\n",
              "  .colab-df-quickchart-complete:disabled:hover {\n",
              "    background-color: var(--disabled-bg-color);\n",
              "    fill: var(--disabled-fill-color);\n",
              "    box-shadow: none;\n",
              "  }\n",
              "\n",
              "  .colab-df-spinner {\n",
              "    border: 2px solid var(--fill-color);\n",
              "    border-color: transparent;\n",
              "    border-bottom-color: var(--fill-color);\n",
              "    animation:\n",
              "      spin 1s steps(1) infinite;\n",
              "  }\n",
              "\n",
              "  @keyframes spin {\n",
              "    0% {\n",
              "      border-color: transparent;\n",
              "      border-bottom-color: var(--fill-color);\n",
              "      border-left-color: var(--fill-color);\n",
              "    }\n",
              "    20% {\n",
              "      border-color: transparent;\n",
              "      border-left-color: var(--fill-color);\n",
              "      border-top-color: var(--fill-color);\n",
              "    }\n",
              "    30% {\n",
              "      border-color: transparent;\n",
              "      border-left-color: var(--fill-color);\n",
              "      border-top-color: var(--fill-color);\n",
              "      border-right-color: var(--fill-color);\n",
              "    }\n",
              "    40% {\n",
              "      border-color: transparent;\n",
              "      border-right-color: var(--fill-color);\n",
              "      border-top-color: var(--fill-color);\n",
              "    }\n",
              "    60% {\n",
              "      border-color: transparent;\n",
              "      border-right-color: var(--fill-color);\n",
              "    }\n",
              "    80% {\n",
              "      border-color: transparent;\n",
              "      border-right-color: var(--fill-color);\n",
              "      border-bottom-color: var(--fill-color);\n",
              "    }\n",
              "    90% {\n",
              "      border-color: transparent;\n",
              "      border-bottom-color: var(--fill-color);\n",
              "    }\n",
              "  }\n",
              "</style>\n",
              "\n",
              "  <script>\n",
              "    async function quickchart(key) {\n",
              "      const quickchartButtonEl =\n",
              "        document.querySelector('#' + key + ' button');\n",
              "      quickchartButtonEl.disabled = true;  // To prevent multiple clicks.\n",
              "      quickchartButtonEl.classList.add('colab-df-spinner');\n",
              "      try {\n",
              "        const charts = await google.colab.kernel.invokeFunction(\n",
              "            'suggestCharts', [key], {});\n",
              "      } catch (error) {\n",
              "        console.error('Error during call to suggestCharts:', error);\n",
              "      }\n",
              "      quickchartButtonEl.classList.remove('colab-df-spinner');\n",
              "      quickchartButtonEl.classList.add('colab-df-quickchart-complete');\n",
              "    }\n",
              "    (() => {\n",
              "      let quickchartButtonEl =\n",
              "        document.querySelector('#df-bb6ccc80-0b29-455f-9da6-7180d2720a3c button');\n",
              "      quickchartButtonEl.style.display =\n",
              "        google.colab.kernel.accessAllowed ? 'block' : 'none';\n",
              "    })();\n",
              "  </script>\n",
              "</div>\n",
              "\n",
              "    </div>\n",
              "  </div>\n"
            ],
            "application/vnd.google.colaboratory.intrinsic+json": {
              "type": "dataframe",
              "summary": "{\n  \"name\": \"pd\",\n  \"rows\": 17000,\n  \"fields\": [\n    {\n      \"column\": \"longitude\",\n      \"properties\": {\n        \"dtype\": \"number\",\n        \"std\": 2.0051664084261778,\n        \"min\": -124.35,\n        \"max\": -114.31,\n        \"num_unique_values\": 827,\n        \"samples\": [\n          -117.56,\n          -123.32,\n          -118.26\n        ],\n        \"semantic_type\": \"\",\n        \"description\": \"\"\n      }\n    },\n    {\n      \"column\": \"latitude\",\n      \"properties\": {\n        \"dtype\": \"number\",\n        \"std\": 2.1373397946570836,\n        \"min\": 32.54,\n        \"max\": 41.95,\n        \"num_unique_values\": 840,\n        \"samples\": [\n          38.44,\n          40.79,\n          32.69\n        ],\n        \"semantic_type\": \"\",\n        \"description\": \"\"\n      }\n    },\n    {\n      \"column\": \"housing_median_age\",\n      \"properties\": {\n        \"dtype\": \"number\",\n        \"std\": 12.586936981660399,\n        \"min\": 1.0,\n        \"max\": 52.0,\n        \"num_unique_values\": 52,\n        \"samples\": [\n          23.0,\n          52.0,\n          47.0\n        ],\n        \"semantic_type\": \"\",\n        \"description\": \"\"\n      }\n    },\n    {\n      \"column\": \"total_rooms\",\n      \"properties\": {\n        \"dtype\": \"number\",\n        \"std\": 2179.947071452767,\n        \"min\": 2.0,\n        \"max\": 37937.0,\n        \"num_unique_values\": 5533,\n        \"samples\": [\n          3564.0,\n          6955.0,\n          5451.0\n        ],\n        \"semantic_type\": \"\",\n        \"description\": \"\"\n      }\n    },\n    {\n      \"column\": \"total_bedrooms\",\n      \"properties\": {\n        \"dtype\": \"number\",\n        \"std\": 421.4994515798646,\n        \"min\": 1.0,\n        \"max\": 6445.0,\n        \"num_unique_values\": 1848,\n        \"samples\": [\n          729.0,\n          719.0,\n          2075.0\n        ],\n        \"semantic_type\": \"\",\n        \"description\": \"\"\n      }\n    },\n    {\n      \"column\": \"population\",\n      \"properties\": {\n        \"dtype\": \"number\",\n        \"std\": 1147.8529591595266,\n        \"min\": 3.0,\n        \"max\": 35682.0,\n        \"num_unique_values\": 3683,\n        \"samples\": [\n          249.0,\n          1735.0,\n          235.0\n        ],\n        \"semantic_type\": \"\",\n        \"description\": \"\"\n      }\n    },\n    {\n      \"column\": \"households\",\n      \"properties\": {\n        \"dtype\": \"number\",\n        \"std\": 384.5208408559009,\n        \"min\": 1.0,\n        \"max\": 6082.0,\n        \"num_unique_values\": 1740,\n        \"samples\": [\n          390.0,\n          1089.0,\n          1351.0\n        ],\n        \"semantic_type\": \"\",\n        \"description\": \"\"\n      }\n    },\n    {\n      \"column\": \"median_income\",\n      \"properties\": {\n        \"dtype\": \"number\",\n        \"std\": 1.9081565183791036,\n        \"min\": 0.4999,\n        \"max\": 15.0001,\n        \"num_unique_values\": 11175,\n        \"samples\": [\n          7.2655,\n          5.6293,\n          4.2262\n        ],\n        \"semantic_type\": \"\",\n        \"description\": \"\"\n      }\n    },\n    {\n      \"column\": \"median_house_value\",\n      \"properties\": {\n        \"dtype\": \"number\",\n        \"std\": 115983.76438720885,\n        \"min\": 14999.0,\n        \"max\": 500001.0,\n        \"num_unique_values\": 3694,\n        \"samples\": [\n          162300.0,\n          346800.0,\n          116700.0\n        ],\n        \"semantic_type\": \"\",\n        \"description\": \"\"\n      }\n    }\n  ]\n}"
            }
          },
          "metadata": {},
          "execution_count": 146
        }
      ]
    },
    {
      "cell_type": "code",
      "source": [
        "with open(\"/content/sample_data/README.md\",\"r\") as f:\n",
        "  print(f.read())"
      ],
      "metadata": {
        "id": "eMkdFLsTYFNh",
        "outputId": "389afa4c-49d2-44e1-d578-300ea4c3bf34",
        "colab": {
          "base_uri": "https://localhost:8080/"
        }
      },
      "execution_count": 147,
      "outputs": [
        {
          "output_type": "stream",
          "name": "stdout",
          "text": [
            "This directory includes a few sample datasets to get you started.\n",
            "\n",
            "*   `california_housing_data*.csv` is California housing data from the 1990 US\n",
            "    Census; more information is available at:\n",
            "    https://developers.google.com/machine-learning/crash-course/california-housing-data-description\n",
            "\n",
            "*   `mnist_*.csv` is a small sample of the\n",
            "    [MNIST database](https://en.wikipedia.org/wiki/MNIST_database), which is\n",
            "    described at: http://yann.lecun.com/exdb/mnist/\n",
            "\n",
            "*   `anscombe.json` contains a copy of\n",
            "    [Anscombe's quartet](https://en.wikipedia.org/wiki/Anscombe%27s_quartet); it\n",
            "    was originally described in\n",
            "\n",
            "    Anscombe, F. J. (1973). 'Graphs in Statistical Analysis'. American\n",
            "    Statistician. 27 (1): 17-21. JSTOR 2682899.\n",
            "\n",
            "    and our copy was prepared by the\n",
            "    [vega_datasets library](https://github.com/altair-viz/vega_datasets/blob/4f67bdaad10f45e3549984e17e1b3088c731503d/vega_datasets/_data/anscombe.json).\n",
            "\n"
          ]
        }
      ]
    }
  ]
}